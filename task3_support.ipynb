{
 "cells": [
  {
   "cell_type": "markdown",
   "metadata": {
    "collapsed": true
   },
   "source": [
    "## COMP28512: Support Software for Task 3 with Examples (27/2/20)\n",
    "## New version for Py2 & Py3"
   ]
  },
  {
   "cell_type": "code",
   "execution_count": 4,
   "metadata": {},
   "outputs": [],
   "source": [
    "from __future__ import print_function\n",
    "import numpy as np"
   ]
  },
  {
   "cell_type": "code",
   "execution_count": 6,
   "metadata": {},
   "outputs": [],
   "source": [
    "# Function to convert a byte-string to a bitArray.\n",
    "def asciiString_to_bitarray(bytestring):\n",
    "    return np.unpackbits(bytearray(bytestring))"
   ]
  },
  {
   "cell_type": "code",
   "execution_count": 7,
   "metadata": {},
   "outputs": [
    {
     "name": "stdout",
     "output_type": "stream",
     "text": [
      "BA = [0 1 0 0 0 0 1 0 0 1 0 0 0 0 1 0 0 1 0 0 0 0 1 1] <class 'numpy.uint8'>\n"
     ]
    }
   ],
   "source": [
    "# Example for asciiString_to_bitarray\n",
    "S = b\"BBC\" # The b means 8-bit ASCII string\n",
    "BA = asciiString_to_bitarray(S)  \n",
    "print (\"BA =\", BA, type(BA[1]))"
   ]
  },
  {
   "cell_type": "code",
   "execution_count": 8,
   "metadata": {},
   "outputs": [],
   "source": [
    "# Function to convert a bitarray to an ascii string.\n",
    "def bitarray_to_asciiString(bitarray):\n",
    "    NA=np.packbits(bitarray)\n",
    "    NA=NA.tobytes()\n",
    "    NA=NA.decode('utf8')\n",
    "    return NA"
   ]
  },
  {
   "cell_type": "code",
   "execution_count": 9,
   "metadata": {},
   "outputs": [
    {
     "name": "stdout",
     "output_type": "stream",
     "text": [
      "BA= [0 1 0 0 0 0 1 0 0 1 0 0 0 0 1 1 0 1 0 0 0 1 0 0] Each element of type: <class 'numpy.int32'>\n",
      "my ascii String:= BCD <class 'str'>\n"
     ]
    }
   ],
   "source": [
    "# Example for bitarray_to_string\n",
    "BA = [0, 1, 0, 0, 0, 0, 1, 0, 0, 1, 0, 0, 0, 0, 1, 1, 0, 1, 0, 0, 0, 1, 0, 0]\n",
    "BA = np.int32(BA)\n",
    "print(\"BA=\",BA, \"Each element of type:\", type(BA[1]))\n",
    "AS = bitarray_to_asciiString(np.array(BA))\n",
    "print(\"my ascii String:=\", AS, type(AS[1]) )"
   ]
  },
  {
   "cell_type": "code",
   "execution_count": 6,
   "metadata": {},
   "outputs": [],
   "source": [
    "# Convert np.int16 array to bit-Array\n",
    "def numpyint16array_to_bitarray(D):       \n",
    "    return np.unpackbits(bytearray(D.byteswap()))"
   ]
  },
  {
   "cell_type": "code",
   "execution_count": 7,
   "metadata": {},
   "outputs": [
    {
     "name": "stdout",
     "output_type": "stream",
     "text": [
      "D = [   -1     0     3    -2 -2103]\n",
      "BA =  [1 1 1 1 1 1 1 1 1 1 1 1 1 1 1 1 0 0 0 0 0 0 0 0 0 0 0 0 0 0 0 0 0 0 0 0 0\n",
      " 0 0 0 0 0 0 0 0 0 1 1 1 1 1 1 1 1 1 1 1 1 1 1 1 1 1 0 1 1 1 1 0 1 1 1 1 1\n",
      " 0 0 1 0 0 1] <class 'numpy.uint8'>\n"
     ]
    }
   ],
   "source": [
    "# Example for numpyint16array_to_bitarray\n",
    "D = np.int16([-1,0,3,-2, -2103])\n",
    "print(\"D =\",D)\n",
    "BA = numpyint16array_to_bitarray(D)\n",
    "print (\"BA = \",BA, type(BA[1]))"
   ]
  },
  {
   "cell_type": "code",
   "execution_count": 8,
   "metadata": {},
   "outputs": [],
   "source": [
    "# Function to convert a bitarray to a NumPy int16 array.\n",
    "def bitarray_to_numpyint16array(data):\n",
    "    NA=np.packbits(data)\n",
    "    NA=NA.tobytes()\n",
    "    NA=np.frombuffer(NA, dtype=np.int16)\n",
    "    NA=NA.byteswap()\n",
    "    return NA"
   ]
  },
  {
   "cell_type": "code",
   "execution_count": 9,
   "metadata": {},
   "outputs": [
    {
     "name": "stdout",
     "output_type": "stream",
     "text": [
      "NA= [   -1     2     3 -2103] <class 'numpy.int16'>\n",
      "BA: [1 1 1 1 1 1 1 1 1 1 1 1 1 1 1 1 0 0 0 0 0 0 0 0 0 0 0 0 0 0 1 0 0 0 0 0 0\n",
      " 0 0 0 0 0 0 0 0 0 1 1 1 1 1 1 0 1 1 1 1 1 0 0 1 0 0 1] <class 'numpy.uint8'>\n",
      "Back: [   -1     2     3 -2103] <class 'numpy.int16'>\n"
     ]
    }
   ],
   "source": [
    "# Example for bitarray_to_numpyint16 array \n",
    "NA = np.array([-1,2,3, -2103], dtype=np.int16)\n",
    "print(\"NA=\",NA,type(NA[1]))\n",
    "BA = numpyint16array_to_bitarray(NA)\n",
    "print(\"BA:\",BA, type(BA[1]))\n",
    "Back = bitarray_to_numpyint16array(BA)\n",
    "print(\"Back:\",Back, type(Back[1]))"
   ]
  },
  {
   "cell_type": "code",
   "execution_count": 10,
   "metadata": {},
   "outputs": [],
   "source": [
    "# Function for inserting bit-errors into a bitarray\n",
    "def insert_bit_errors(data, bit_error_probability):\n",
    "    # Insert bit errors into some data with given probability.\n",
    "    errors = np.random.uniform(size=data.size) < bit_error_probability\n",
    "    return errors ^ data"
   ]
  },
  {
   "cell_type": "code",
   "execution_count": 11,
   "metadata": {},
   "outputs": [
    {
     "name": "stdout",
     "output_type": "stream",
     "text": [
      "Orig bitarray: [1 1 1 1 1 1 1 1 1 1 1 1 1 1 1 1 0 0 0 0 0 0 0 0 0 0 0 0 0 0 1 0 0 0 0 0 0\n",
      " 0 0 0 0 0 0 0 0 0 1 1 1 1 1 1 0 1 1 1 1 1 0 0 1 0 0 1]\n",
      " New bitarray: [0 0 0 0 0 0 0 0 0 0 0 0 0 0 0 0 1 1 1 1 1 1 1 1 1 1 1 1 1 1 0 1 1 1 1 1 1\n",
      " 1 1 1 1 1 1 1 1 1 0 0 0 0 0 0 1 0 0 0 0 0 1 1 0 1 1 0]\n"
     ]
    }
   ],
   "source": [
    "# Example for inserting bit-errors into a bitarray\n",
    "print(\"Orig bitarray:\",BA)\n",
    "newBA = insert_bit_errors(BA,1.0)\n",
    "print(\" New bitarray:\", newBA)"
   ]
  },
  {
   "cell_type": "code",
   "execution_count": 12,
   "metadata": {},
   "outputs": [],
   "source": [
    "# Function checkCRC for performing a CRC check\n",
    "import numpy as np\n",
    "def checkCRC(xa,gx) :  \n",
    "   # Generates M-bit CRC as row-vector where length of gx is (M+1)\n",
    "   # Generator polynomial of order M is represented by gx(0:M)\n",
    "   # Message is bit-array xa(0:L)\n",
    "   M = len(gx)-1\n",
    "   print (\"M = \", M)\n",
    "   # Does not append zeros to xa & assumes that this has been done already\n",
    "   xsa = xa[0:M+1]\n",
    "   for i in range (0 , len(xa) -(M)):\n",
    "      xsa[M] = xa[i + M]\n",
    "      if xsa[0] == gx[0]: \n",
    "          xsa = xsa ^ gx      \n",
    "      xsa[0:M] = xsa[1:M+1]           \n",
    "      print(i, \"xsa: \", xsa)   \n",
    "   return xsa[0:M]"
   ]
  },
  {
   "cell_type": "code",
   "execution_count": 13,
   "metadata": {},
   "outputs": [
    {
     "name": "stdout",
     "output_type": "stream",
     "text": [
      "xa= [1 0 0 1 0 0 0 1 1 1 1 0 0 0 0 0 0 0 0 0] <class 'numpy.int64'>\n",
      "gx= [1 0 0 0 0 0 1 1 1] <class 'numpy.int64'>\n",
      "M =  8\n",
      "0 xsa:  [0 0 1 0 0 1 0 0 0]\n",
      "1 xsa:  [0 1 0 0 1 0 0 1 1]\n",
      "2 xsa:  [1 0 0 1 0 0 1 1 1]\n",
      "3 xsa:  [0 0 1 0 0 0 0 1 1]\n",
      "4 xsa:  [0 1 0 0 0 0 1 0 0]\n",
      "5 xsa:  [1 0 0 0 0 1 0 0 0]\n",
      "6 xsa:  [0 0 0 0 1 1 1 1 1]\n",
      "7 xsa:  [0 0 0 1 1 1 1 0 0]\n",
      "8 xsa:  [0 0 1 1 1 1 0 0 0]\n",
      "9 xsa:  [0 1 1 1 1 0 0 0 0]\n",
      "10 xsa:  [1 1 1 1 0 0 0 0 0]\n",
      "11 xsa:  [1 1 1 0 0 1 1 1 1]\n",
      "check =  [1 1 1 0 0 1 1 1] <class 'numpy.int64'>\n"
     ]
    }
   ],
   "source": [
    "# Example for function checkCRC\n",
    "xa = [1,0,0,1,0,0,0,1,1,1,1,0,0,0,0,0,0,0,0,0]\n",
    "gx = [1,0,0,0,0,0,1,1,1]\n",
    "xa = np.array(xa)\n",
    "gx = np.array(gx)\n",
    "print(\"xa=\",xa,type(xa[1]))\n",
    "print(\"gx=\",gx,type(gx[1]))\n",
    "check = checkCRC(xa,gx)\n",
    "print (\"check = \", check, type(check[1]))"
   ]
  },
  {
   "cell_type": "code",
   "execution_count": 14,
   "metadata": {},
   "outputs": [
    {
     "name": "stdout",
     "output_type": "stream",
     "text": [
      "xa= [1 0 0 1 0 0 0 0 1 1 1 1] <class 'numpy.int64'>\n",
      "gx= [1 0 0 0 1] <class 'numpy.int64'>\n",
      "M =  4\n",
      "0 xsa:  [0 0 1 1 1]\n",
      "1 xsa:  [0 1 1 0 0]\n",
      "2 xsa:  [1 1 0 0 0]\n",
      "3 xsa:  [1 0 0 1 1]\n",
      "4 xsa:  [0 0 1 0 0]\n",
      "5 xsa:  [0 1 0 1 1]\n",
      "6 xsa:  [1 0 1 1 1]\n",
      "7 xsa:  [0 1 1 0 0]\n",
      "check =  [0 1 1 0] <class 'numpy.int64'>\n"
     ]
    }
   ],
   "source": [
    "# Example from Lecture 5 for function checkCRC \n",
    "xa = [1,0,0,1,0,0,0,0,1,1,1,1]\n",
    "gx = [1,0,0,0,1]\n",
    "xa = np.array(xa)\n",
    "gx = np.array(gx)\n",
    "print(\"xa=\",xa,type(xa[1]))\n",
    "print(\"gx=\",gx,type(gx[1]))\n",
    "check = checkCRC(xa,gx)\n",
    "print (\"check = \", check, type(check[1]))"
   ]
  },
  {
   "cell_type": "code",
   "execution_count": 15,
   "metadata": {},
   "outputs": [],
   "source": [
    "# Convert np.int16 array to bit-string (Not needed here )\n",
    "def numpyint16array_to_bitstring(D):\n",
    "    BS=np.unpackbits(bytearray(D.byteswap()))\n",
    "    BS=BS.astype(str)                 \n",
    "    return \"\".join(BS)"
   ]
  },
  {
   "cell_type": "code",
   "execution_count": 16,
   "metadata": {},
   "outputs": [
    {
     "name": "stdout",
     "output_type": "stream",
     "text": [
      "1111111111111111000000000000001000000000000011110000000000000001\n"
     ]
    }
   ],
   "source": [
    "print(numpyint16array_to_bitstring(np.int16([-1, 2, 15, 1])))"
   ]
  },
  {
   "cell_type": "code",
   "execution_count": 17,
   "metadata": {},
   "outputs": [
    {
     "ename": "FileNotFoundError",
     "evalue": "[Errno 2] No such file or directory: 'NarrobandSpeech8k.wav'",
     "output_type": "error",
     "traceback": [
      "\u001b[0;31m---------------------------------------------------------------------------\u001b[0m",
      "\u001b[0;31mFileNotFoundError\u001b[0m                         Traceback (most recent call last)",
      "\u001b[0;32m<ipython-input-17-e64245959627>\u001b[0m in \u001b[0;36m<module>\u001b[0;34m\u001b[0m\n\u001b[1;32m      4\u001b[0m \u001b[0;32mfrom\u001b[0m \u001b[0mIPython\u001b[0m \u001b[0;32mimport\u001b[0m \u001b[0mdisplay\u001b[0m \u001b[0;32mas\u001b[0m \u001b[0mDp\u001b[0m\u001b[0;34m\u001b[0m\u001b[0;34m\u001b[0m\u001b[0m\n\u001b[1;32m      5\u001b[0m \u001b[0;31m# Read in a wav file from working directory\u001b[0m\u001b[0;34m\u001b[0m\u001b[0;34m\u001b[0m\u001b[0;34m\u001b[0m\u001b[0m\n\u001b[0;32m----> 6\u001b[0;31m \u001b[0;34m(\u001b[0m\u001b[0mFs\u001b[0m\u001b[0;34m,\u001b[0m \u001b[0mspeech\u001b[0m\u001b[0;34m)\u001b[0m \u001b[0;34m=\u001b[0m \u001b[0mwavfile\u001b[0m\u001b[0;34m.\u001b[0m\u001b[0mread\u001b[0m\u001b[0;34m(\u001b[0m\u001b[0;34m\"NarrobandSpeech8k.wav\"\u001b[0m\u001b[0;34m)\u001b[0m\u001b[0;34m\u001b[0m\u001b[0;34m\u001b[0m\u001b[0m\n\u001b[0m\u001b[1;32m      7\u001b[0m \u001b[0mprint\u001b[0m \u001b[0;34m(\u001b[0m\u001b[0;34m\"Sampling frequency Fs as read from wav-file: \"\u001b[0m\u001b[0;34m,\u001b[0m\u001b[0mFs\u001b[0m\u001b[0;34m,\u001b[0m\u001b[0;34m\" Hz\"\u001b[0m\u001b[0;34m)\u001b[0m\u001b[0;34m\u001b[0m\u001b[0;34m\u001b[0m\u001b[0m\n\u001b[1;32m      8\u001b[0m \u001b[0mprint\u001b[0m \u001b[0;34m(\u001b[0m\u001b[0;34m\"Data type of array speech: \"\u001b[0m\u001b[0;34m,\u001b[0m \u001b[0mtype\u001b[0m \u001b[0;34m(\u001b[0m\u001b[0mspeech\u001b[0m\u001b[0;34m[\u001b[0m\u001b[0;36m1\u001b[0m\u001b[0;34m]\u001b[0m\u001b[0;34m)\u001b[0m \u001b[0;34m)\u001b[0m\u001b[0;34m\u001b[0m\u001b[0;34m\u001b[0m\u001b[0m\n",
      "\u001b[0;32m~/anaconda3/lib/python3.7/site-packages/scipy/io/wavfile.py\u001b[0m in \u001b[0;36mread\u001b[0;34m(filename, mmap)\u001b[0m\n\u001b[1;32m    231\u001b[0m         \u001b[0mmmap\u001b[0m \u001b[0;34m=\u001b[0m \u001b[0;32mFalse\u001b[0m\u001b[0;34m\u001b[0m\u001b[0;34m\u001b[0m\u001b[0m\n\u001b[1;32m    232\u001b[0m     \u001b[0;32melse\u001b[0m\u001b[0;34m:\u001b[0m\u001b[0;34m\u001b[0m\u001b[0;34m\u001b[0m\u001b[0m\n\u001b[0;32m--> 233\u001b[0;31m         \u001b[0mfid\u001b[0m \u001b[0;34m=\u001b[0m \u001b[0mopen\u001b[0m\u001b[0;34m(\u001b[0m\u001b[0mfilename\u001b[0m\u001b[0;34m,\u001b[0m \u001b[0;34m'rb'\u001b[0m\u001b[0;34m)\u001b[0m\u001b[0;34m\u001b[0m\u001b[0;34m\u001b[0m\u001b[0m\n\u001b[0m\u001b[1;32m    234\u001b[0m \u001b[0;34m\u001b[0m\u001b[0m\n\u001b[1;32m    235\u001b[0m     \u001b[0;32mtry\u001b[0m\u001b[0;34m:\u001b[0m\u001b[0;34m\u001b[0m\u001b[0;34m\u001b[0m\u001b[0m\n",
      "\u001b[0;31mFileNotFoundError\u001b[0m: [Errno 2] No such file or directory: 'NarrobandSpeech8k.wav'"
     ]
    }
   ],
   "source": [
    "# Test np.int16 - bitarray conversion & insert_bit_errors using a speech file\n",
    "import numpy as np\n",
    "from scipy.io import wavfile\n",
    "from IPython import display as Dp\n",
    "# Read in a wav file from working directory\n",
    "(Fs, speech) = wavfile.read(\"NarrobandSpeech8k.wav\")\n",
    "print (\"Sampling frequency Fs as read from wav-file: \",Fs,\" Hz\")\n",
    "print (\"Data type of array speech: \", type (speech[1]) )\n",
    "print (\"Listen to speech as read from original wav file:\")\n",
    "print(\"Orig speech\")\n",
    "Dp.display(Dp.Audio(speech,rate=Fs))\n",
    "BA = numpyint16array_to_bitarray(speech)\n",
    "print(\"Inserting bit-errors:\")\n",
    "BAnew = insert_bit_errors(BA, 0)\n",
    "print(\"reconstructing speech:\")\n",
    "newSpeech = bitarray_to_numpyint16array(BAnew)\n",
    "print(\"New speech\")\n",
    "Dp.display(Dp.Audio(newSpeech,rate=Fs))\n",
    "MD = np.max(abs(speech-newSpeech))\n",
    "print(\"Magnitude of max difference between orig and decoded samples when no bit-errors\",MD)"
   ]
  }
 ],
 "metadata": {
  "kernelspec": {
   "display_name": "Python 3",
   "language": "python",
   "name": "python3"
  },
  "language_info": {
   "codemirror_mode": {
    "name": "ipython",
    "version": 3
   },
   "file_extension": ".py",
   "mimetype": "text/x-python",
   "name": "python",
   "nbconvert_exporter": "python",
   "pygments_lexer": "ipython3",
   "version": "3.7.3"
  }
 },
 "nbformat": 4,
 "nbformat_minor": 1
}
